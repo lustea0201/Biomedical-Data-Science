{
  "nbformat": 4,
  "nbformat_minor": 0,
  "metadata": {
    "colab": {
      "name": "Final project.ipynb",
      "provenance": [],
      "collapsed_sections": []
    },
    "kernelspec": {
      "name": "python3",
      "display_name": "Python 3"
    },
    "accelerator": "GPU"
  },
  "cells": [
    {
      "cell_type": "markdown",
      "metadata": {
        "id": "Rfz8K6n6t1Yd",
        "colab_type": "text"
      },
      "source": [
        "#Task b)  "
      ]
    },
    {
      "cell_type": "code",
      "metadata": {
        "id": "bddJvovtae7K",
        "colab_type": "code",
        "outputId": "a64f0cdd-ca7c-44f4-c16e-0a8514e0986b",
        "colab": {
          "base_uri": "https://localhost:8080/",
          "height": 67
        }
      },
      "source": [
        "import pandas as pd\n",
        "from google.colab import drive\n",
        "import pandas as pd\n",
        "import sklearn.linear_model as lm\n",
        "import numpy as np\n",
        "from sklearn import preprocessing\n",
        "from sklearn import metrics\n",
        "import matplotlib.pyplot as plt\n",
        "from sklearn.utils import shuffle\n",
        "from sklearn.model_selection import KFold\n",
        "from datetime import datetime\n",
        "import sys\n",
        "import time\n",
        "\n",
        "\n",
        "np.random.seed(0) # For reproducibility\n",
        "FIGSIZE = (8,5)\n",
        "splits = 10 # Number of splits for cross-validation\n",
        "\n",
        "\n",
        "# These parameters affect execution time \n",
        "t_test = 1e-3 #Tolerance stopping criteria when performing the regression to test predictions \n",
        "t_cross = 6e-3 #Tolerance stopping criteria when performing the regression for cross-validation\n",
        "\n",
        "nmax_test = 1000 #Maximum number of iterations when performing the regression to test predictions\n",
        "nmax_cross = 500 #Maximum number of iterations when performing the regression for cross-validation\n",
        "\n",
        "\n",
        "# Loading the training and testing data \n",
        "drive.mount('/content/gdrive')\n",
        "\n",
        "trainingData=pd.read_csv('gdrive/My Drive/bmdslab/final project/glm.training.data.csv', index_col = 0) # Index_col = 0 to use the first column as indices\n",
        "testData=pd.read_csv('gdrive/My Drive/bmdslab/final project/glm.test.data.csv', index_col = 0)\n",
        "timestamps=pd.read_csv('gdrive/My Drive/bmdslab/final project/timestamps.test.csv', index_col = 0) \n",
        "onsets=pd.read_csv('gdrive/My Drive/bmdslab/final project/test.onsets.csv', index_col = 0)\n",
        "\n",
        "format = \"%Y-%m-%d %H:%M:%S\" #This time format will be necessary to process warning time \n",
        "\n",
        "f = 1/8 # The fraction of the total training set used (to lower execution time)\n",
        "# Use f = 1 to use the entire dataset\n",
        "# Note that time remaining is estimated for cross-validation (the longest task)\n",
        "n_points = int(f*len(trainingData))\n",
        "trainingData = shuffle(trainingData)\n",
        "trainingData = trainingData.iloc[:n_points,:]\n",
        "\n",
        "\n"
      ],
      "execution_count": 23,
      "outputs": [
        {
          "output_type": "stream",
          "text": [
            "Drive already mounted at /content/gdrive; to attempt to forcibly remount, call drive.mount(\"/content/gdrive\", force_remount=True).\n"
          ],
          "name": "stdout"
        },
        {
          "output_type": "stream",
          "text": [
            "/usr/local/lib/python3.6/dist-packages/numpy/lib/arraysetops.py:569: FutureWarning: elementwise comparison failed; returning scalar instead, but in the future will perform elementwise comparison\n",
            "  mask |= (ar1 == a)\n"
          ],
          "name": "stderr"
        }
      ]
    },
    {
      "cell_type": "code",
      "metadata": {
        "id": "Vn6eVx93iAtY",
        "colab_type": "code",
        "colab": {}
      },
      "source": [
        "# Separating predictor variables from labels \n",
        "xTrain = trainingData.drop(columns = ['y'])\n",
        "yTrain = trainingData['y']\n",
        "\n",
        "\n",
        "\n",
        "# Normalizing each column of xTrain\n",
        "scaler = preprocessing.StandardScaler()\n",
        "scaled_xTrain = scaler.fit_transform(xTrain)\n",
        "xTrain = pd.DataFrame(scaled_xTrain, columns=xTrain.columns)"
      ],
      "execution_count": 0,
      "outputs": []
    },
    {
      "cell_type": "code",
      "metadata": {
        "id": "vdlnM_oKZX2V",
        "colab_type": "code",
        "outputId": "290d01d2-3e9b-4112-95f4-ae3d206ed841",
        "colab": {
          "base_uri": "https://localhost:8080/",
          "height": 367
        }
      },
      "source": [
        " # Training a logistic regression with the saga solver and lasso penalty\n",
        "lr = lm.LogisticRegression(fit_intercept=True, solver = 'saga', penalty = 'l1', C = 1, tol = t_test, max_iter = nmax_test)\n",
        "fit = lr.fit(xTrain, yTrain)\n",
        "\n",
        "# Predicting probabilities from training sample and plotting roc_curve\n",
        "phat = fit.predict_proba(xTrain)[:,1]\n",
        "\n",
        "fpr, tpr, thresholds = metrics.roc_curve(yTrain, phat)\n",
        "roc_auc_before = metrics.auc(fpr, tpr)\n",
        "dst = [abs(0.5 - el) for el in thresholds]\n",
        "closest_ = np.argmin(dst)\n",
        "\n",
        "plt.figure(figsize=FIGSIZE)\n",
        "plt.title('Receiver Operating Characteristic')\n",
        "plt.plot(fpr, tpr, 'brown', label = 'AUC = %0.2f' % roc_auc_before)\n",
        "plt.legend(loc = 'lower right')\n",
        "plt.plot([0, 1], [0, 1],'--')\n",
        "plt.xlim([0, 1])\n",
        "plt.ylim([0, 1])\n",
        "plt.ylabel('True Positive Rate')\n",
        "plt.xlabel('False Positive Rate')\n",
        "plt.scatter(fpr[closest_], tpr[closest_], c = 'r')\n",
        "\n",
        "print(\"Area under the curve: \" + str(np.round(roc_auc_before, 5)))"
      ],
      "execution_count": 25,
      "outputs": [
        {
          "output_type": "stream",
          "text": [
            "Area under the curve: 0.9334\n"
          ],
          "name": "stdout"
        },
        {
          "output_type": "display_data",
          "data": {
            "image/png": "[encoded data removed]",
            "text/plain": [
              "<Figure size 576x360 with 1 Axes>"
            ]
          },
          "metadata": {
            "tags": []
          }
        }
      ]
    },
    {
      "cell_type": "code",
      "metadata": {
        "id": "D8OBdHMMny6F",
        "colab_type": "code",
        "outputId": "a3560c1b-d5c1-418b-9743-02236aa79885",
        "colab": {
          "base_uri": "https://localhost:8080/",
          "height": 92
        }
      },
      "source": [
        "# Evaluating performance on the test set using a risk score of 0.5 as threshold\n",
        "xTest = testData.drop(columns = ['y', 'patient'])\n",
        "yTest = testData['y']\n",
        "scaled_xTest = scaler.fit_transform(xTest)\n",
        "xTest = pd.DataFrame(scaled_xTest, columns=xTest.columns)\n",
        "\n",
        "yhat = (fit.predict_proba(xTest)[:,1] >= 0.5)\n",
        "accuracy = np.round(np.mean(yhat == yTest), 3)\n",
        "sensitivity = np.round(np.mean(yhat[yTest == 1] == yTest[yTest == 1]), 3)\n",
        "specificity = np.round(np.mean(yhat[yTest == 0] == yTest[yTest == 0]), 3)\n",
        "\n",
        "\n",
        "PPV = tpr[closest_]/(tpr[closest_] + fpr[closest_])\n",
        "d = {'Accuracy': [accuracy], 'Sensitivity': [sensitivity], 'Specificity': [specificity], 'PPV': [PPV]}\n",
        "df = pd.DataFrame(data=d)\n",
        "df = df.style.hide_index()\n",
        "print(\"Evaluation of the predictions on the testing set with 0.5 as classification threshold and 1 as regularization strength: \\n\")\n",
        "df"
      ],
      "execution_count": 26,
      "outputs": [
        {
          "output_type": "stream",
          "text": [
            "Evaluation of the predictions on the testing set with 0.5 as classification threshold and 1 as regularization strength: \n",
            "\n"
          ],
          "name": "stdout"
        },
        {
          "output_type": "execute_result",
          "data": {
            "text/html": [
              "<style  type=\"text/css\" >\n",
              "</style><table id=\"T_365d2dea_f14a_11e9_ad78_0242ac1c0002\" ><thead>    <tr>        <th class=\"col_heading level0 col0\" >Accuracy</th>        <th class=\"col_heading level0 col1\" >Sensitivity</th>        <th class=\"col_heading level0 col2\" >Specificity</th>        <th class=\"col_heading level0 col3\" >PPV</th>    </tr></thead><tbody>\n",
              "                <tr>\n",
              "                                <td id=\"T_365d2dea_f14a_11e9_ad78_0242ac1c0002row0_col0\" class=\"data row0 col0\" >0.865</td>\n",
              "                        <td id=\"T_365d2dea_f14a_11e9_ad78_0242ac1c0002row0_col1\" class=\"data row0 col1\" >0.261</td>\n",
              "                        <td id=\"T_365d2dea_f14a_11e9_ad78_0242ac1c0002row0_col2\" class=\"data row0 col2\" >0.924</td>\n",
              "                        <td id=\"T_365d2dea_f14a_11e9_ad78_0242ac1c0002row0_col3\" class=\"data row0 col3\" >0.948871</td>\n",
              "            </tr>\n",
              "    </tbody></table>"
            ],
            "text/plain": [
              "<pandas.io.formats.style.Styler at 0x7f2e33099a20>"
            ]
          },
          "metadata": {
            "tags": []
          },
          "execution_count": 26
        }
      ]
    },
    {
      "cell_type": "markdown",
      "metadata": {
        "id": "12WkZ4TDBIR1",
        "colab_type": "text"
      },
      "source": [
        "#Task c)\n",
        "**Cross-validation**"
      ]
    },
    {
      "cell_type": "code",
      "metadata": {
        "id": "Qb_b2GoRmP3t",
        "colab_type": "code",
        "outputId": "22ad7e2c-924e-47fb-ef91-0052d3e5e1ce",
        "colab": {
          "base_uri": "https://localhost:8080/",
          "height": 34
        }
      },
      "source": [
        "n = np.linspace(-4,1,7)\n",
        "lambdas = [2**el for el in n]\n",
        "\n",
        "auc = np.zeros((10, len(lambdas)))\n",
        "\n",
        "yy =  trainingData['y']\n",
        "xx = trainingData.drop(columns = ['y'])\n",
        "\n",
        "kf = KFold(n_splits=splits)\n",
        "\n",
        "j = 0\n",
        "k = 0\n",
        "start = time.time()\n",
        "for train_index, test_index in kf.split(xx):  \n",
        "  X, XTEST = xx.iloc[train_index], xx.iloc[test_index]\n",
        "  Y, YTEST = yy.iloc[train_index], yy.iloc[test_index]\n",
        "  scaled_X = scaler.fit_transform(X)\n",
        "  X = pd.DataFrame(scaled_X, columns=X.columns)\n",
        "  scaled_XTEST = scaler.fit_transform(XTEST)\n",
        "  XTEST = pd.DataFrame(scaled_XTEST, columns=XTEST.columns)\n",
        "  \n",
        "  for l in range(len(lambdas)):\n",
        "    if (j > 0):\n",
        "      fraction_done = j/(splits*len(lambdas))\n",
        "      elapsed = (time.time()-start)\n",
        "      remaining = (1-fraction_done)/fraction_done*elapsed\n",
        "      hours, rem = divmod(remaining, 3600)\n",
        "      minutes, seconds = divmod(rem, 60)\n",
        "      message = '\\r'+ str(np.round(100*fraction_done,2))\n",
        "      message += \"% done, estimated time remaining: \" \n",
        "      message += \"{:0>2}:{:0>2}:{:05.2f}\".format(int(hours),int(minutes),seconds)    \n",
        "      sys.stdout.write(message)\n",
        "    \n",
        "    \n",
        "    # Training a logistic regression with the saga solver and lasso penalty\n",
        "    lr = lm.LogisticRegression(fit_intercept=True, solver = 'saga', penalty = 'l1', C = 1/lambdas[l], tol = t_cross, max_iter = nmax_cross)\n",
        "    fit = lr.fit(X, Y)\n",
        "\n",
        "    # Predicting probabilities from training sample and plotting roc_curve\n",
        "    phat = fit.predict_proba(XTEST)[:,1]\n",
        "\n",
        "    fpr, tpr, thresholds = metrics.roc_curve(YTEST, phat);\n",
        "    auc[k,l] = metrics.auc(fpr, tpr)\n",
        "    j += 1\n",
        "  k += 1\n",
        "sys.stdout.write('\\r')\n",
        "  \n",
        "auc_avg = []\n",
        "for m in range(len(lambdas)): \n",
        "  auc_avg.append(np.mean(auc[:,m]))\n",
        "\n",
        "i = np.argmax(auc_avg)\n",
        "optimal_lambda = lambdas[i]\n",
        "print(\" The optimal regularization strength is: \" + str(optimal_lambda))"
      ],
      "execution_count": 27,
      "outputs": [
        {
          "output_type": "stream",
          "text": [
            " The optimal regularization strength is: 0.6299605249474366\n"
          ],
          "name": "stdout"
        }
      ]
    },
    {
      "cell_type": "code",
      "metadata": {
        "id": "h4tzFQytU7Ve",
        "colab_type": "code",
        "outputId": "a38c1f18-f4d5-4d10-ccc0-8dd3e311cd51",
        "colab": {
          "base_uri": "https://localhost:8080/",
          "height": 362
        }
      },
      "source": [
        "plt.figure(figsize=FIGSIZE)\n",
        "plt.plot(lambdas, auc_avg)\n",
        "plt.scatter(optimal_lambda, auc_avg[i], color='r', marker = \"*\")\n",
        "plt.ylabel('Average AUC')\n",
        "plt.xlabel('Regularization strength')"
      ],
      "execution_count": 28,
      "outputs": [
        {
          "output_type": "execute_result",
          "data": {
            "text/plain": [
              "Text(0.5, 0, 'Regularization strength')"
            ]
          },
          "metadata": {
            "tags": []
          },
          "execution_count": 28
        },
        {
          "output_type": "display_data",
          "data": {
            "image/png": "[encoded data removed]",
            "text/plain": [
              "<Figure size 576x360 with 1 Axes>"
            ]
          },
          "metadata": {
            "tags": []
          }
        }
      ]
    },
    {
      "cell_type": "markdown",
      "metadata": {
        "id": "FoJdV8COwKuH",
        "colab_type": "text"
      },
      "source": [
        "#Part d)\n",
        "\n",
        "**Finding the optimal threshold**"
      ]
    },
    {
      "cell_type": "code",
      "metadata": {
        "id": "RafSKgq5FPk-",
        "colab_type": "code",
        "outputId": "96e3514a-e99f-478e-a3eb-9968812320e6",
        "colab": {
          "base_uri": "https://localhost:8080/",
          "height": 350
        }
      },
      "source": [
        "# Now use the optimal regularization parameter \n",
        "\n",
        "lr = lm.LogisticRegression(fit_intercept=True, solver = 'saga', penalty = 'l1', C = 1/optimal_lambda, tol = t_test, max_iter = nmax_test)\n",
        "fit = lr.fit(xTrain,yTrain)\n",
        "\n",
        "# Predicting probabilities from training sample and plotting roc_curve\n",
        "phat = fit.predict_proba(xTrain)[:,1]\n",
        "\n",
        "fpr, tpr, thresholds = metrics.roc_curve(yTrain, phat)\n",
        "roc_auc = metrics.auc(fpr, tpr)\n",
        "distances_sq = []\n",
        "for i in range(len(thresholds)): \n",
        "  distances_sq.append((tpr[i]-1)**2 + (fpr[i])**2 )\n",
        "best_index = np.argmin(distances_sq)\n",
        "best_threshold = thresholds[best_index]\n",
        "\n",
        "plt.figure(figsize=FIGSIZE)\n",
        "plt.title('ROC curve')\n",
        "plt.plot(fpr, tpr, 'b', label = 'AUC = %0.2f' % roc_auc)\n",
        "plt.legend(loc = 'lower right')\n",
        "plt.plot([0, 1], [0, 1],'r--')\n",
        "plt.xlim([0, 1])\n",
        "plt.ylim([0, 1])\n",
        "plt.ylabel('True Positive Rate')\n",
        "plt.xlabel('False Positive Rate')\n",
        "plt.scatter(fpr[best_index], tpr[best_index], c = 'r')\n",
        "plt.show()\n",
        "\n"
      ],
      "execution_count": 29,
      "outputs": [
        {
          "output_type": "display_data",
          "data": {
            "image/png": "[encoded data removed]",
            "text/plain": [
              "<Figure size 576x360 with 1 Axes>"
            ]
          },
          "metadata": {
            "tags": []
          }
        }
      ]
    },
    {
      "cell_type": "code",
      "metadata": {
        "id": "y8cftZghpLZU",
        "colab_type": "code",
        "outputId": "8eea16fe-186f-4aaf-df98-cd76e37709ba",
        "colab": {
          "base_uri": "https://localhost:8080/",
          "height": 92
        }
      },
      "source": [
        "# Evaluating performance on test set using the optimal regularization strength and classification threshold\n",
        "yhat = (fit.predict_proba(xTest)[:,1] >= best_threshold)\n",
        "accuracy = np.round(np.mean(yhat == yTest), 3)\n",
        "sensitivity = np.round(np.mean(yhat[yTest == 1] == yTest[yTest == 1]), 3)\n",
        "specificity = np.round(np.mean(yhat[yTest == 0] == yTest[yTest == 0]), 3)\n",
        "PPV = tpr[best_index]/(tpr[best_index] + fpr[best_index])\n",
        "d = {'Accuracy': [accuracy], 'Sensitivity': [sensitivity], 'Specificity': [specificity], 'PPV' : [PPV ] }\n",
        "df = pd.DataFrame(data=d)\n",
        "frame = df.style.hide_index()\n",
        "print(\"Evaluation of the predictions on the testing set with \" + str(np.round(best_threshold,5)) +\" as classification threshold and \" + str(optimal_lambda) + \" as regularization strength: \\n\")\n",
        "frame"
      ],
      "execution_count": 30,
      "outputs": [
        {
          "output_type": "stream",
          "text": [
            "Evaluation of the predictions on the testing set with 0.18595 as classification threshold and 0.6299605249474366 as regularization strength: \n",
            "\n"
          ],
          "name": "stdout"
        },
        {
          "output_type": "execute_result",
          "data": {
            "text/html": [
              "<style  type=\"text/css\" >\n",
              "</style><table id=\"T_351a24e0_f14c_11e9_ad78_0242ac1c0002\" ><thead>    <tr>        <th class=\"col_heading level0 col0\" >Accuracy</th>        <th class=\"col_heading level0 col1\" >Sensitivity</th>        <th class=\"col_heading level0 col2\" >Specificity</th>        <th class=\"col_heading level0 col3\" >PPV</th>    </tr></thead><tbody>\n",
              "                <tr>\n",
              "                                <td id=\"T_351a24e0_f14c_11e9_ad78_0242ac1c0002row0_col0\" class=\"data row0 col0\" >0.794</td>\n",
              "                        <td id=\"T_351a24e0_f14c_11e9_ad78_0242ac1c0002row0_col1\" class=\"data row0 col1\" >0.446</td>\n",
              "                        <td id=\"T_351a24e0_f14c_11e9_ad78_0242ac1c0002row0_col2\" class=\"data row0 col2\" >0.828</td>\n",
              "                        <td id=\"T_351a24e0_f14c_11e9_ad78_0242ac1c0002row0_col3\" class=\"data row0 col3\" >0.868521</td>\n",
              "            </tr>\n",
              "    </tbody></table>"
            ],
            "text/plain": [
              "<pandas.io.formats.style.Styler at 0x7f2e20c376d8>"
            ]
          },
          "metadata": {
            "tags": []
          },
          "execution_count": 30
        }
      ]
    },
    {
      "cell_type": "markdown",
      "metadata": {
        "id": "VQBGCVQQwUT0",
        "colab_type": "text"
      },
      "source": [
        "#Part e)\n",
        "**Generating a histogram of EWT**"
      ]
    },
    {
      "cell_type": "code",
      "metadata": {
        "id": "OGn_79E5o7p7",
        "colab_type": "code",
        "colab": {}
      },
      "source": [
        "# STEP 1: extract only those that eventually go in septic shock\n",
        "shook = testData[testData.y == 1]"
      ],
      "execution_count": 0,
      "outputs": []
    },
    {
      "cell_type": "code",
      "metadata": {
        "id": "mNArqrK3o8TS",
        "colab_type": "code",
        "colab": {}
      },
      "source": [
        "# STEP 2: add their ids\n",
        "ids = []\n",
        "for index, row in shook.iterrows(): \n",
        "  if row['patient'] not in ids: \n",
        "    ids.append(int(row['patient']))\n"
      ],
      "execution_count": 0,
      "outputs": []
    },
    {
      "cell_type": "code",
      "metadata": {
        "id": "mbdrVqXLo9y6",
        "colab_type": "code",
        "colab": {}
      },
      "source": [
        "#STEP 3: for each ID, take their first measurement where they were predicted as in pre-septic shock\n",
        "# We need to make predictions on testing set this time \n",
        "\n",
        "\n",
        "times = []\n",
        "for id in ids: \n",
        "  patient_msrmts = testData.loc[testData.patient == id]\n",
        "  found = False\n",
        "  for index, row in patient_msrmts.iterrows(): \n",
        "    if (not found): \n",
        "      if (yhat[index] == 1): \n",
        "        times.append(timestamps.iloc[index]['x'])\n",
        "        found = True\n",
        "  if (not found):\n",
        "    times.append(None)\n",
        "        \n",
        "df = pd.DataFrame({'Patient':ids,'Detection':times})"
      ],
      "execution_count": 0,
      "outputs": []
    },
    {
      "cell_type": "code",
      "metadata": {
        "id": "ix7iro8kpEvL",
        "colab_type": "code",
        "outputId": "17b39906-74b6-4e51-b9f0-6181627cd621",
        "colab": {
          "base_uri": "https://localhost:8080/",
          "height": 355
        }
      },
      "source": [
        "EWT = []\n",
        "for i in range(len(onsets)):\n",
        "  if (df.iloc[i,1] is not None):\n",
        "    t1 = datetime.strptime(str(df.iloc[i,1]), format)\n",
        "    t2 = datetime.strptime(onsets.iloc[i,0], format)\n",
        "    d = t2-t1 \n",
        "    EWT.append(d.seconds/3600)\n",
        "  else:\n",
        "    EWT.append(0)\n",
        "  \n",
        "median_EWT = np.median(EWT)\n",
        "plt.figure(figsize=FIGSIZE)\n",
        "plt.hist(EWT, 25)\n",
        "xmin, xmax, ymin, ymax = plt.axis()\n",
        "plt.plot([median_EWT,median_EWT],[ymin,ymax], '-r');\n",
        "plt.ylabel('Number of cases')\n",
        "plt.xlabel('EWT [hours]')\n",
        "print(\"Median Early Warning Time: \" + str(median_EWT) +  \" hours\")\n",
        "\n",
        "\n"
      ],
      "execution_count": 34,
      "outputs": [
        {
          "output_type": "stream",
          "text": [
            "Median Early Warning Time: 3.5416666666666665 hours\n"
          ],
          "name": "stdout"
        },
        {
          "output_type": "display_data",
          "data": {
            "image/png": "[encoded data removed]",
            "text/plain": [
              "<Figure size 576x360 with 1 Axes>"
            ]
          },
          "metadata": {
            "tags": []
          }
        }
      ]
    },
    {
      "cell_type": "markdown",
      "metadata": {
        "id": "tdcTU_L9qQbV",
        "colab_type": "text"
      },
      "source": [
        "#Part f)\n",
        "Repeating the process with balanced data"
      ]
    },
    {
      "cell_type": "code",
      "metadata": {
        "id": "tE7lQueOcLWi",
        "colab_type": "code",
        "outputId": "e5ead353-e596-44fd-dd66-7c42327ac0f1",
        "colab": {
          "base_uri": "https://localhost:8080/",
          "height": 362
        }
      },
      "source": [
        "# Balancing the data \n",
        "N_shook = len(trainingData[trainingData.y == 1])\n",
        "\n",
        "ind = trainingData.index.values\n",
        "np.random.shuffle(ind)\n",
        "selected_ind = list(ind[:N_shook])\n",
        "balancedData = trainingData.loc[selected_ind]\n",
        "\n",
        "\n",
        "n = np.linspace(-2,2,5)\n",
        "lambdas = [2**el for el in n]\n",
        "\n",
        "auc = np.zeros((10, len(lambdas)))\n",
        "j = 0\n",
        "\n",
        "\n",
        "yy_b =  balancedData['y']\n",
        "xx_b = balancedData.drop(columns = ['y'])\n",
        "\n",
        "\n",
        "kf = KFold(n_splits=10)\n",
        "start = time.time()\n",
        "\n",
        "k = 0\n",
        "for train_index, test_index in kf.split(xx_b):\n",
        "  X, XTEST = xx_b.iloc[train_index], xx_b.iloc[test_index]\n",
        "  Y, YTEST = yy_b.iloc[train_index], yy_b.iloc[test_index]\n",
        "  scaled_X = scaler.fit_transform(X)\n",
        "  X = pd.DataFrame(scaled_X, columns=X.columns)\n",
        "  scaled_XTEST = scaler.fit_transform(XTEST)\n",
        "  XTEST = pd.DataFrame(scaled_XTEST, columns=XTEST.columns)\n",
        "  \n",
        "  for l in range(len(lambdas)):\n",
        "    if (j > 0):\n",
        "      fraction_done = j/(splits*len(lambdas))\n",
        "      elapsed = (time.time()-start)\n",
        "      remaining = (1-fraction_done)/fraction_done*elapsed\n",
        "      hours, rem = divmod(remaining, 3600)\n",
        "      minutes, seconds = divmod(rem, 60)\n",
        "      message = '\\r'+ str(np.round(100*fraction_done,2))\n",
        "      message += \"% done, estimated time remaining: \" \n",
        "      message += \"{:0>2}:{:0>2}:{:05.2f}\".format(int(hours),int(minutes),seconds)    \n",
        "      sys.stdout.write(message)\n",
        "    \n",
        "    # Training a logistic regression with the saga solver and lasso penalty\n",
        "    lr = lm.LogisticRegression(fit_intercept=True, solver = 'saga', penalty = 'l1', C = 1/lambdas[l], tol = t_cross, max_iter = nmax_cross)\n",
        "    fit = lr.fit(X, Y)\n",
        "\n",
        "    # Predicting probabilities from training sample and plotting roc_curve\n",
        "    phat = fit.predict_proba(XTEST)[:,1]\n",
        "\n",
        "    fpr, tpr, thresholds = metrics.roc_curve(YTEST, phat)\n",
        "    auc[k,l] = metrics.auc(fpr, tpr)\n",
        "    j += 1\n",
        "  k += 1\n",
        "sys.stdout.write('\\r')\n",
        "  \n",
        "auc_avg = []\n",
        "for m in range(len(lambdas)): \n",
        "  auc_avg.append(np.mean(auc[:,m]))\n",
        "best_index = np.argmax(auc_avg)\n",
        "optimal_lambda = lambdas[best_index]\n",
        "\n",
        "plt.figure(figsize=FIGSIZE)\n",
        "plt.plot(lambdas, auc_avg)\n",
        "plt.scatter(optimal_lambda, auc_avg[best_index], color='r', marker = \"*\")\n",
        "plt.ylabel('Average AUC')\n",
        "plt.xlabel('Regularization strength')"
      ],
      "execution_count": 35,
      "outputs": [
        {
          "output_type": "stream",
          "text": [
            ""
          ],
          "name": "stdout"
        },
        {
          "output_type": "execute_result",
          "data": {
            "text/plain": [
              "Text(0.5, 0, 'Regularization strength')"
            ]
          },
          "metadata": {
            "tags": []
          },
          "execution_count": 35
        },
        {
          "output_type": "display_data",
          "data": {
            "image/png": "[encoded data removed]",
            "text/plain": [
              "<Figure size 576x360 with 1 Axes>"
            ]
          },
          "metadata": {
            "tags": []
          }
        }
      ]
    },
    {
      "cell_type": "code",
      "metadata": {
        "id": "TIPbNZBSvFP_",
        "colab_type": "code",
        "outputId": "78228c64-3e84-493e-b7df-b7082de32d78",
        "colab": {
          "base_uri": "https://localhost:8080/",
          "height": 350
        }
      },
      "source": [
        "\n",
        "# Now using the optimal regularization parameter \n",
        "Y_b = balancedData['y']\n",
        "X_b = balancedData.drop(columns = ['y'])\n",
        "scaled_X_b = scaler.fit_transform(X_b)\n",
        "X_b = pd.DataFrame(scaled_X_b, columns=X_b.columns)\n",
        "\n",
        "\n",
        "lr = lm.LogisticRegression(fit_intercept=True, solver = 'saga', penalty = 'l1', C = 1/optimal_lambda, tol = t_test, max_iter = nmax_test)\n",
        "fit = lr.fit(X_b,Y_b)\n",
        "\n",
        "# Predicting probabilities from training sample and plotting roc_curve\n",
        "phat = fit.predict_proba(xTrain)[:,1]\n",
        "\n",
        "fpr, tpr, thresholds = metrics.roc_curve(yTrain, phat)\n",
        "roc_auc = metrics.auc(fpr, tpr)\n",
        "distances_sq = []\n",
        "for i in range(len(thresholds)): \n",
        "  distances_sq.append((tpr[i]-1)**2 + (fpr[i])**2 )\n",
        "k = np.argmin(distances_sq)\n",
        "best_threshold = thresholds[k]\n",
        "\n",
        "\n",
        "plt.figure(figsize=FIGSIZE)\n",
        "plt.title('Receiver Operating Characteristic')\n",
        "plt.plot(fpr, tpr, 'b', label = 'AUC = %0.2f' % roc_auc)\n",
        "plt.legend(loc = 'lower right')\n",
        "plt.plot([0, 1], [0, 1],'r--')\n",
        "plt.xlim([0, 1])\n",
        "plt.ylim([0, 1])\n",
        "plt.ylabel('True Positive Rate')\n",
        "plt.xlabel('False Positive Rate')\n",
        "plt.scatter(fpr[k], tpr[k], c = 'r')\n",
        "plt.show()\n",
        "\n",
        "\n",
        "\n",
        "# STEP 1: extract only those that eventually go in septic shock\n",
        "shook = testData[testData.y == 1]\n",
        "\n",
        "# STEP 2: add their ids\n",
        "ids = []\n",
        "for index, row in shook.iterrows(): \n",
        "  if row['patient'] not in ids: \n",
        "    ids.append(int(row['patient']))\n",
        "    \n",
        "#STEP 3: for each ID, take their first measurement where they were predicted as in pre-septic shock\n",
        "yhat = (fit.predict_proba(xTest)[:,1] >= best_threshold)\n",
        "\n",
        "\n",
        "\n",
        "times = []\n",
        "for id in ids: \n",
        "  patient_msrmts = testData.loc[testData.patient == id]\n",
        "  found = False\n",
        "  for index, row in patient_msrmts.iterrows(): \n",
        "    if (not found): \n",
        "      if (yhat[index] == 1): \n",
        "        times.append(timestamps.iloc[index]['x'])\n",
        "        found = True\n",
        "  if (not found):\n",
        "    times.append(None)\n",
        "        \n",
        "df = pd.DataFrame({'Patient':ids,'Detection':times})\n",
        "\n",
        "\n",
        "\n",
        "EWT = []\n",
        "for i in range(len(onsets)):\n",
        "  if (df.iloc[i,1] is not None):\n",
        "    t1 = datetime.strptime(str(df.iloc[i,1]), format)\n",
        "    t2 = datetime.strptime(onsets.iloc[i,0], format)\n",
        "    d = t2-t1 \n",
        "    EWT.append(d.seconds/3600)\n",
        "  else: \n",
        "    EWT.append(0)\n",
        "  \n",
        "median_EWT = np.median(EWT)\n"
      ],
      "execution_count": 36,
      "outputs": [
        {
          "output_type": "display_data",
          "data": {
            "image/png": "[encoded data removed]",
            "text/plain": [
              "<Figure size 576x360 with 1 Axes>"
            ]
          },
          "metadata": {
            "tags": []
          }
        }
      ]
    },
    {
      "cell_type": "code",
      "metadata": {
        "id": "em8AAx9Prq0Q",
        "colab_type": "code",
        "colab": {
          "base_uri": "https://localhost:8080/",
          "height": 92
        },
        "outputId": "2b0dd683-e0fc-44ca-a133-5202e963a2ce"
      },
      "source": [
        "# Evaluating performance using the optimal regularization strength and classification threshold\n",
        "accuracy = np.round(np.mean(yhat == yTest), 3)\n",
        "sensitivity = np.round(np.mean(yhat[yTest == 1] == yTest[yTest == 1]), 3)\n",
        "specificity = np.round(np.mean(yhat[yTest == 0] == yTest[yTest == 0]), 3)\n",
        "PPV = tpr[k]/(tpr[k] + fpr[k])\n",
        "d = {'Accuracy': [accuracy], 'Sensitivity': [sensitivity], 'Specificity': [specificity], 'PPV' : [PPV]}\n",
        "df = pd.DataFrame(data=d)\n",
        "frame = df.style.hide_index()\n",
        "print(\"Evaluation of the predictions on the testing set with \" + str(np.round(best_threshold,5)) +\" as classification threshold and \" + str(optimal_lambda) + \" as regularization strength: \\n\")\n",
        "frame"
      ],
      "execution_count": 37,
      "outputs": [
        {
          "output_type": "stream",
          "text": [
            "Evaluation of the predictions on the testing set with 0.14987 as classification threshold and 2.0 as regularization strength: \n",
            "\n"
          ],
          "name": "stdout"
        },
        {
          "output_type": "execute_result",
          "data": {
            "text/html": [
              "<style  type=\"text/css\" >\n",
              "</style><table id=\"T_77bc080e_f14c_11e9_ad78_0242ac1c0002\" ><thead>    <tr>        <th class=\"col_heading level0 col0\" >Accuracy</th>        <th class=\"col_heading level0 col1\" >Sensitivity</th>        <th class=\"col_heading level0 col2\" >Specificity</th>        <th class=\"col_heading level0 col3\" >PPV</th>    </tr></thead><tbody>\n",
              "                <tr>\n",
              "                                <td id=\"T_77bc080e_f14c_11e9_ad78_0242ac1c0002row0_col0\" class=\"data row0 col0\" >0.787</td>\n",
              "                        <td id=\"T_77bc080e_f14c_11e9_ad78_0242ac1c0002row0_col1\" class=\"data row0 col1\" >0.472</td>\n",
              "                        <td id=\"T_77bc080e_f14c_11e9_ad78_0242ac1c0002row0_col2\" class=\"data row0 col2\" >0.818</td>\n",
              "                        <td id=\"T_77bc080e_f14c_11e9_ad78_0242ac1c0002row0_col3\" class=\"data row0 col3\" >0.858256</td>\n",
              "            </tr>\n",
              "    </tbody></table>"
            ],
            "text/plain": [
              "<pandas.io.formats.style.Styler at 0x7f2e2084e470>"
            ]
          },
          "metadata": {
            "tags": []
          },
          "execution_count": 37
        }
      ]
    },
    {
      "cell_type": "code",
      "metadata": {
        "id": "spnsNT6xdBcw",
        "colab_type": "code",
        "colab": {
          "base_uri": "https://localhost:8080/",
          "height": 354
        },
        "outputId": "c4f77a90-90ab-4910-a0e9-4760ec71cd80"
      },
      "source": [
        "plt.figure(figsize=FIGSIZE)\n",
        "plt.hist(EWT, 25)\n",
        "xmin, xmax, ymin, ymax = plt.axis()\n",
        "plt.plot([median_EWT,median_EWT],[ymin,ymax], '-r'); \n",
        "plt.ylabel('Number of cases')\n",
        "plt.xlabel('EWT [hours]')\n",
        "print(\"Median Early Warning Time: \" + str(median_EWT) +  \" hours\")"
      ],
      "execution_count": 38,
      "outputs": [
        {
          "output_type": "stream",
          "text": [
            "Median Early Warning Time: 3.5 hours\n"
          ],
          "name": "stdout"
        },
        {
          "output_type": "display_data",
          "data": {
            "image/png": "[encoded data removed]",
            "text/plain": [
              "<Figure size 576x360 with 1 Axes>"
            ]
          },
          "metadata": {
            "tags": []
          }
        }
      ]
    }
  ]
}